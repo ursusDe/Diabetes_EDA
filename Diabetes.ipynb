{
 "cells": [
  {
   "attachments": {},
   "cell_type": "markdown",
   "metadata": {},
   "source": [
    "# DIABETES\n",
    "This analysis is performed on data from US hospital encounters, related to diabetes. It was recorded in period from 1999-2008.\n"
   ]
  },
  {
   "attachments": {},
   "cell_type": "markdown",
   "metadata": {},
   "source": [
    "The aim of this work is to analyse the number of times patients are entered into the system. The analysis will be done with Python and its libraries. "
   ]
  },
  {
   "cell_type": "code",
   "execution_count": 1,
   "metadata": {},
   "outputs": [],
   "source": [
    "import pandas as pd\n",
    "import numpy as np"
   ]
  },
  {
   "cell_type": "code",
   "execution_count": 2,
   "metadata": {},
   "outputs": [],
   "source": [
    "#import a dataset and mapping file\n",
    "data = pd.read_csv('path_to_diabetes_dataset\\diabetic_data.csv', index_col=0) \n",
    "mapping = pd.read_csv('path_to_mapping_dataset\\IDs_mapping.csv')"
   ]
  },
  {
   "cell_type": "code",
   "execution_count": 3,
   "metadata": {},
   "outputs": [],
   "source": [
    "#slice mapping file in tables\n",
    "admission_type=mapping.iloc[0:8]\n",
    "discharge_disposition = mapping.iloc[9:40]\n",
    "admission_source=mapping.iloc[41:]"
   ]
  },
  {
   "cell_type": "code",
   "execution_count": 4,
   "metadata": {},
   "outputs": [],
   "source": [
    "#clean indexes of mapping files\n",
    "discharge_disposition.reset_index(drop=True, inplace= True)\n",
    "admission_source.reset_index(drop=True, inplace= True)\n",
    "\n",
    "discharge_disposition=discharge_disposition.rename(columns=discharge_disposition.iloc[0]).loc[1:]\n",
    "admission_source=admission_source.rename(columns=admission_source.iloc[0]).loc[1:]\n",
    "\n",
    "discharge_disposition.reset_index(drop=True, inplace= True)\n",
    "admission_source.reset_index(drop=True, inplace= True)"
   ]
  },
  {
   "cell_type": "code",
   "execution_count": 5,
   "metadata": {},
   "outputs": [
    {
     "name": "stdout",
     "output_type": "stream",
     "text": [
      "Index(['patient_nbr', 'race', 'gender', 'age', 'weight', 'admission_type_id',\n",
      "       'discharge_disposition_id', 'admission_source_id', 'time_in_hospital',\n",
      "       'payer_code', 'medical_specialty', 'num_lab_procedures',\n",
      "       'num_procedures', 'num_medications', 'number_outpatient',\n",
      "       'number_emergency', 'number_inpatient', 'diag_1', 'diag_2', 'diag_3',\n",
      "       'number_diagnoses', 'max_glu_serum', 'A1Cresult', 'metformin',\n",
      "       'repaglinide', 'nateglinide', 'chlorpropamide', 'glimepiride',\n",
      "       'acetohexamide', 'glipizide', 'glyburide', 'tolbutamide',\n",
      "       'pioglitazone', 'rosiglitazone', 'acarbose', 'miglitol', 'troglitazone',\n",
      "       'tolazamide', 'examide', 'citoglipton', 'insulin',\n",
      "       'glyburide-metformin', 'glipizide-metformin',\n",
      "       'glimepiride-pioglitazone', 'metformin-rosiglitazone',\n",
      "       'metformin-pioglitazone', 'change', 'diabetesMed', 'readmitted'],\n",
      "      dtype='object')\n",
      "(101766, 49)\n"
     ]
    }
   ],
   "source": [
    "print(data.columns)\n",
    "print(data.shape)"
   ]
  },
  {
   "cell_type": "code",
   "execution_count": 6,
   "metadata": {},
   "outputs": [
    {
     "data": {
      "text/html": [
       "<div>\n",
       "<style scoped>\n",
       "    .dataframe tbody tr th:only-of-type {\n",
       "        vertical-align: middle;\n",
       "    }\n",
       "\n",
       "    .dataframe tbody tr th {\n",
       "        vertical-align: top;\n",
       "    }\n",
       "\n",
       "    .dataframe thead th {\n",
       "        text-align: right;\n",
       "    }\n",
       "</style>\n",
       "<table border=\"1\" class=\"dataframe\">\n",
       "  <thead>\n",
       "    <tr style=\"text-align: right;\">\n",
       "      <th></th>\n",
       "      <th>patient_nbr</th>\n",
       "      <th>admission_type_id</th>\n",
       "      <th>discharge_disposition_id</th>\n",
       "      <th>admission_source_id</th>\n",
       "      <th>time_in_hospital</th>\n",
       "      <th>readmitted</th>\n",
       "    </tr>\n",
       "    <tr>\n",
       "      <th>encounter_id</th>\n",
       "      <th></th>\n",
       "      <th></th>\n",
       "      <th></th>\n",
       "      <th></th>\n",
       "      <th></th>\n",
       "      <th></th>\n",
       "    </tr>\n",
       "  </thead>\n",
       "  <tbody>\n",
       "    <tr>\n",
       "      <th>2278392</th>\n",
       "      <td>8222157</td>\n",
       "      <td>6</td>\n",
       "      <td>25</td>\n",
       "      <td>1</td>\n",
       "      <td>1</td>\n",
       "      <td>NO</td>\n",
       "    </tr>\n",
       "    <tr>\n",
       "      <th>149190</th>\n",
       "      <td>55629189</td>\n",
       "      <td>1</td>\n",
       "      <td>1</td>\n",
       "      <td>7</td>\n",
       "      <td>3</td>\n",
       "      <td>&gt;30</td>\n",
       "    </tr>\n",
       "    <tr>\n",
       "      <th>64410</th>\n",
       "      <td>86047875</td>\n",
       "      <td>1</td>\n",
       "      <td>1</td>\n",
       "      <td>7</td>\n",
       "      <td>2</td>\n",
       "      <td>NO</td>\n",
       "    </tr>\n",
       "    <tr>\n",
       "      <th>500364</th>\n",
       "      <td>82442376</td>\n",
       "      <td>1</td>\n",
       "      <td>1</td>\n",
       "      <td>7</td>\n",
       "      <td>2</td>\n",
       "      <td>NO</td>\n",
       "    </tr>\n",
       "    <tr>\n",
       "      <th>16680</th>\n",
       "      <td>42519267</td>\n",
       "      <td>1</td>\n",
       "      <td>1</td>\n",
       "      <td>7</td>\n",
       "      <td>1</td>\n",
       "      <td>NO</td>\n",
       "    </tr>\n",
       "  </tbody>\n",
       "</table>\n",
       "</div>"
      ],
      "text/plain": [
       "              patient_nbr  admission_type_id  discharge_disposition_id  \\\n",
       "encounter_id                                                             \n",
       "2278392           8222157                  6                        25   \n",
       "149190           55629189                  1                         1   \n",
       "64410            86047875                  1                         1   \n",
       "500364           82442376                  1                         1   \n",
       "16680            42519267                  1                         1   \n",
       "\n",
       "              admission_source_id  time_in_hospital readmitted  \n",
       "encounter_id                                                    \n",
       "2278392                         1                 1         NO  \n",
       "149190                          7                 3        >30  \n",
       "64410                           7                 2         NO  \n",
       "500364                          7                 2         NO  \n",
       "16680                           7                 1         NO  "
      ]
     },
     "execution_count": 6,
     "metadata": {},
     "output_type": "execute_result"
    }
   ],
   "source": [
    "#make subset by deleteing redundant columns\n",
    "columns=['race', 'gender', 'age', 'weight','payer_code', 'medical_specialty',\n",
    "       'num_lab_procedures', 'num_procedures', 'num_medications',\n",
    "       'number_outpatient', 'number_emergency', 'number_inpatient', 'diag_1',\n",
    "       'diag_2', 'diag_3', 'number_diagnoses', 'max_glu_serum', 'A1Cresult', 'change', 'diabetesMed', 'metformin',\n",
    "       'repaglinide', 'nateglinide', 'chlorpropamide', 'glimepiride',\n",
    "       'acetohexamide', 'glipizide', 'glyburide', 'tolbutamide',\n",
    "       'pioglitazone', 'rosiglitazone', 'acarbose', 'miglitol', 'troglitazone',\n",
    "       'tolazamide', 'examide', 'citoglipton', 'insulin',\n",
    "       'glyburide-metformin', 'glipizide-metformin',\n",
    "       'glimepiride-pioglitazone', 'metformin-rosiglitazone',\n",
    "       'metformin-pioglitazone', 'change', 'diabetesMed']\n",
    "subset = data.drop(columns, axis=1)\n",
    "subset.head(5)"
   ]
  },
  {
   "attachments": {},
   "cell_type": "markdown",
   "metadata": {},
   "source": [
    "How many unique patients are in our data, and for how many of them have we recordeed multiple encounters?"
   ]
  },
  {
   "cell_type": "code",
   "execution_count": 9,
   "metadata": {},
   "outputs": [],
   "source": [
    "#make a data frame of unique patint numbers and the number of their encounters\n",
    "patients=pd.DataFrame(data=subset['patient_nbr'].value_counts())\n",
    "patients.rename(columns={'patient_nbr': 'visit_nbr'}, inplace=True)"
   ]
  },
  {
   "cell_type": "code",
   "execution_count": 10,
   "metadata": {},
   "outputs": [
    {
     "name": "stdout",
     "output_type": "stream",
     "text": [
      "Number of patients: 71518 \n",
      "Max encounters: 40 \n",
      "Min encounters: 1 \n",
      "Number of patients with single encounter: 54745 \n",
      "Number of patients with multiple encounters: 16773 \n",
      "Number of patients with more than 10 encounters: 97 \n",
      "Number of patients with more than 20 encounters: 8 \n",
      "Number of patients with more than 30 encounters: 1\n"
     ]
    }
   ],
   "source": [
    "print('Number of patients:', len(patients),\n",
    "      '\\nMax encounters:', max(patients['visit_nbr']), \n",
    "      '\\nMin encounters:', min(patients['visit_nbr']),\n",
    "      '\\nNumber of patients with single encounter:', len(patients[patients['visit_nbr']==1]),\n",
    "      '\\nNumber of patients with multiple encounters:', len(patients[patients['visit_nbr']>1]),\n",
    "      '\\nNumber of patients with more than 10 encounters:', len(patients[patients['visit_nbr']>10]),\n",
    "      '\\nNumber of patients with more than 20 encounters:', len(patients[patients['visit_nbr']>20]),\n",
    "      '\\nNumber of patients with more than 30 encounters:', len(patients[patients['visit_nbr']>30])\n",
    "      )"
   ]
  },
  {
   "attachments": {},
   "cell_type": "markdown",
   "metadata": {},
   "source": [
    "Data from authors: Clore,John, Cios,Krzysztof, DeShazo,Jon & Strack,Beata. (2014). Diabetes 130-US hospitals for years 1999-2008. UCI Machine Learning Repository. \n",
    "Data available at: \n",
    "https://archive-beta.ics.uci.edu/dataset/296/diabetes+130+us+hospitals+for+years+1999+2008 "
   ]
  }
 ],
 "metadata": {
  "kernelspec": {
   "display_name": "Python 3",
   "language": "python",
   "name": "python3"
  },
  "language_info": {
   "codemirror_mode": {
    "name": "ipython",
    "version": 3
   },
   "file_extension": ".py",
   "mimetype": "text/x-python",
   "name": "python",
   "nbconvert_exporter": "python",
   "pygments_lexer": "ipython3",
   "version": "3.11.1"
  },
  "orig_nbformat": 4,
  "vscode": {
   "interpreter": {
    "hash": "2cf0796e90af5c4362a9058e40ead308a0ab9c01c1fed6aabeb9432b5691820a"
   }
  }
 },
 "nbformat": 4,
 "nbformat_minor": 2
}
